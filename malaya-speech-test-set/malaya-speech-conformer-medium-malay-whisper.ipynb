{
 "cells": [
  {
   "cell_type": "code",
   "execution_count": 1,
   "id": "c7905555",
   "metadata": {},
   "outputs": [],
   "source": [
    "# !pip3 install git+https://github.com/mesolitica/malaya-speech@6aea111d8f17ceeaf53e5f95de8887610a93577c\n",
    "# !pip3 install torchaudio --index-url https://download.pytorch.org/whl/cu118\n",
    "# !wget https://huggingface.co/datasets/huseinzol05/malaya-speech-stt-test-set/resolve/main/malaya-speech/malay-test.tar.gz\n",
    "# !tar -zxf malay-test.tar.gz\n",
    "# !wget https://huggingface.co/datasets/huseinzol05/malaya-speech-stt-test-set/resolve/main/malaya-speech/malaya-malay-test-set.json"
   ]
  },
  {
   "cell_type": "code",
   "execution_count": 2,
   "id": "e308da3a",
   "metadata": {
    "scrolled": true
   },
   "outputs": [
    {
     "name": "stderr",
     "output_type": "stream",
     "text": [
      "`pyaudio` is not available, `malaya_speech.streaming.pyaudio` is not able to use.\n"
     ]
    }
   ],
   "source": [
    "from transformers import GPT2Tokenizer, GPT2LMHeadModel, AutoTokenizer\n",
    "import malaya_speech\n",
    "import json\n",
    "import numpy as np\n",
    "import unicodedata\n",
    "import re\n",
    "import itertools\n",
    "from tqdm import tqdm\n",
    "\n",
    "vocabs = [\" \", \"a\", \"e\", \"n\", \"i\", \"t\", \"o\", \"u\", \"s\", \"k\", \"r\", \"l\", \"h\", \"d\", \"m\", \"g\", \"y\", \"b\", \"p\", \"w\", \"c\", \"f\", \"j\", \"v\", \"z\", \"0\", \"1\", \"x\", \"2\", \"q\", \"5\", \"3\", \"4\", \"6\", \"9\", \"8\", \"7\"]\n",
    "\n",
    "def preprocessing_text(string):\n",
    "    \n",
    "    string = unicodedata.normalize('NFC', string.lower())\n",
    "    string = ''.join([c if c in vocabs else ' ' for c in string])\n",
    "    string = re.sub(r'[ ]+', ' ', string).strip()\n",
    "    string = (\n",
    "        ''.join(''.join(s)[:2] for _, s in itertools.groupby(string))\n",
    "    )\n",
    "    return string\n",
    "\n",
    "def calculate_cer(actual, hyp):\n",
    "    \"\"\"\n",
    "    Calculate CER using `python-Levenshtein`.\n",
    "    \"\"\"\n",
    "    import Levenshtein as Lev\n",
    "\n",
    "    actual = actual.replace(' ', '')\n",
    "    hyp = hyp.replace(' ', '')\n",
    "    return Lev.distance(actual, hyp) / len(actual)\n",
    "\n",
    "\n",
    "def calculate_wer(actual, hyp):\n",
    "    \"\"\"\n",
    "    Calculate WER using `python-Levenshtein`.\n",
    "    \"\"\"\n",
    "    import Levenshtein as Lev\n",
    "\n",
    "    b = set(actual.split() + hyp.split())\n",
    "    word2char = dict(zip(b, range(len(b))))\n",
    "\n",
    "    w1 = [chr(word2char[w]) for w in actual.split()]\n",
    "    w2 = [chr(word2char[w]) for w in hyp.split()]\n",
    "\n",
    "    return Lev.distance(''.join(w1), ''.join(w2)) / len(actual.split())"
   ]
  },
  {
   "cell_type": "code",
   "execution_count": 3,
   "id": "8ad1a1ae",
   "metadata": {
    "scrolled": true
   },
   "outputs": [],
   "source": [
    "model = malaya_speech.stt.transducer.huggingface(model = 'mesolitica/conformer-medium-malay-whisper')"
   ]
  },
  {
   "cell_type": "code",
   "execution_count": 4,
   "id": "7f98cf33",
   "metadata": {},
   "outputs": [],
   "source": [
    "_ = model.eval()\n",
    "_ = model.cuda()"
   ]
  },
  {
   "cell_type": "code",
   "execution_count": 5,
   "id": "217e7999",
   "metadata": {},
   "outputs": [
    {
     "data": {
      "text/plain": [
       "765"
      ]
     },
     "execution_count": 5,
     "metadata": {},
     "output_type": "execute_result"
    }
   ],
   "source": [
    "with open('malaya-malay-test-set.json') as fopen:\n",
    "    data = json.load(fopen)\n",
    "\n",
    "len(data)"
   ]
  },
  {
   "cell_type": "code",
   "execution_count": 6,
   "id": "2af9fc42",
   "metadata": {},
   "outputs": [
    {
     "name": "stderr",
     "output_type": "stream",
     "text": [
      "100%|██████████| 765/765 [11:38<00:00,  1.10it/s]\n"
     ]
    }
   ],
   "source": [
    "wer, cer = [], []\n",
    "\n",
    "for i in tqdm(range(len(data))):\n",
    "    \n",
    "    if not data[i]['accept']:\n",
    "        continue\n",
    "        \n",
    "    f = f'malay-test/{i}.wav'\n",
    "    actual = data[i]['cleaned']\n",
    "        \n",
    "    y, _ = malaya_speech.load(f)\n",
    "    out = model.beam_decoder([y])[0]\n",
    "    \n",
    "    out = preprocessing_text(out)\n",
    "        \n",
    "    actual = actual.lower()\n",
    "    out = out.lower()\n",
    "    \n",
    "    wer.append(calculate_wer(actual, out))\n",
    "    cer.append(calculate_cer(actual, out))"
   ]
  },
  {
   "cell_type": "code",
   "execution_count": 8,
   "id": "d17ad454",
   "metadata": {},
   "outputs": [
    {
     "data": {
      "text/plain": [
       "(0.09315638444736804, 0.024955598713609053)"
      ]
     },
     "execution_count": 8,
     "metadata": {},
     "output_type": "execute_result"
    }
   ],
   "source": [
    "import numpy as np\n",
    "\n",
    "np.mean(wer), np.mean(cer)"
   ]
  },
  {
   "cell_type": "code",
   "execution_count": null,
   "id": "3b29d99d",
   "metadata": {},
   "outputs": [],
   "source": []
  }
 ],
 "metadata": {
  "kernelspec": {
   "display_name": "Python 3 (ipykernel)",
   "language": "python",
   "name": "python3"
  },
  "language_info": {
   "codemirror_mode": {
    "name": "ipython",
    "version": 3
   },
   "file_extension": ".py",
   "mimetype": "text/x-python",
   "name": "python",
   "nbconvert_exporter": "python",
   "pygments_lexer": "ipython3",
   "version": "3.10.12"
  }
 },
 "nbformat": 4,
 "nbformat_minor": 5
}
