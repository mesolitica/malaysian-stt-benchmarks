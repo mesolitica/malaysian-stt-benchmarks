{
 "cells": [
  {
   "cell_type": "code",
   "execution_count": 1,
   "id": "bf3ab79e",
   "metadata": {},
   "outputs": [],
   "source": [
    "# !wget https://huggingface.co/datasets/mesolitica/IMDA-TTS/resolve/main/FEMALE_01.zip\n",
    "# !wget https://huggingface.co/datasets/mesolitica/IMDA-TTS/resolve/main/texts.json\n",
    "# !unzip -q FEMALE_01.zip"
   ]
  },
  {
   "cell_type": "code",
   "execution_count": 2,
   "id": "5ef3f62d",
   "metadata": {},
   "outputs": [],
   "source": [
    "from glob import glob\n",
    "import json\n",
    "import torch\n",
    "import os\n",
    "from transformers import AutoProcessor, AutoModelForSpeechSeq2Seq, pipeline\n",
    "from datasets import Audio\n",
    "from tqdm import tqdm\n",
    "import jiwer\n",
    "\n",
    "sr = 16000\n",
    "audio = Audio(sampling_rate=sr)\n",
    "PUNCTUATION = '!\"#$%&\\'()*+,./:;<=>?@[\\\\]^_`{|}~'"
   ]
  },
  {
   "cell_type": "code",
   "execution_count": 3,
   "id": "375efd05",
   "metadata": {},
   "outputs": [
    {
     "name": "stderr",
     "output_type": "stream",
     "text": [
      "Special tokens have been added in the vocabulary, make sure the associated word embeddings are fine-tuned or trained.\n",
      "The model was loaded with use_flash_attention_2=True, which is deprecated and may be removed in a future release. Please use `attn_implementation=\"flash_attention_2\"` instead.\n",
      "You are attempting to use Flash Attention 2.0 with a model not initialized on GPU. Make sure to move the model to GPU after initializing it on CPU with `model.to('cuda')`.\n"
     ]
    }
   ],
   "source": [
    "processor = AutoProcessor.from_pretrained('mesolitica/malaysian-whisper-base')\n",
    "model = AutoModelForSpeechSeq2Seq.from_pretrained(\n",
    "    'mesolitica/malaysian-whisper-base',\n",
    "    use_flash_attention_2 = True,\n",
    "    torch_dtype = torch.bfloat16\n",
    ")"
   ]
  },
  {
   "cell_type": "code",
   "execution_count": 4,
   "id": "7eb1168a",
   "metadata": {},
   "outputs": [],
   "source": [
    "_ = model.cuda()"
   ]
  },
  {
   "cell_type": "code",
   "execution_count": 5,
   "id": "7987b8e3",
   "metadata": {},
   "outputs": [],
   "source": [
    "with open('texts.json') as fopen:\n",
    "    data = json.load(fopen)"
   ]
  },
  {
   "cell_type": "code",
   "execution_count": 6,
   "id": "2eb7a624",
   "metadata": {
    "scrolled": true
   },
   "outputs": [
    {
     "data": {
      "text/plain": [
       "6033"
      ]
     },
     "execution_count": 6,
     "metadata": {},
     "output_type": "execute_result"
    }
   ],
   "source": [
    "len(data)"
   ]
  },
  {
   "cell_type": "code",
   "execution_count": 7,
   "id": "b76992fa",
   "metadata": {
    "scrolled": true
   },
   "outputs": [
    {
     "data": {
      "text/plain": [
       "{'filename': '0000.wav',\n",
       " 'text': 'Author of the danger trail, Philip Steels, etc.'}"
      ]
     },
     "execution_count": 7,
     "metadata": {},
     "output_type": "execute_result"
    }
   ],
   "source": [
    "data[0]"
   ]
  },
  {
   "cell_type": "code",
   "execution_count": 8,
   "id": "53a47f94",
   "metadata": {},
   "outputs": [
    {
     "name": "stderr",
     "output_type": "stream",
     "text": [
      "100%|██████████| 700/700 [03:21<00:00,  3.47it/s]\n"
     ]
    }
   ],
   "source": [
    "wer, cer = [], []\n",
    "\n",
    "for i in tqdm(range(len(data[:700]))):\n",
    "    f = os.path.join('FEMALE_01', data[i]['filename'])\n",
    "    y = audio.decode_example(audio.encode_example(f))['array']\n",
    "    inputs = processor([y], return_tensors = 'pt', sampling_rate = 16000)\n",
    "    inputs['input_features'] = inputs['input_features'].type(torch.bfloat16).cuda()\n",
    "    r = model.generate(inputs['input_features'], language='en', return_timestamps=True)\n",
    "    \n",
    "    out = processor.tokenizer.decode(r[0], skip_special_tokens = True).strip()\n",
    "    actual = processor.tokenizer.decode(processor.tokenizer.encode(data[i]['text']), skip_special_tokens = True).strip()\n",
    "    \n",
    "    for p in PUNCTUATION:\n",
    "        out = out.replace(p, '')\n",
    "        actual = actual.replace(p, '')\n",
    "        \n",
    "    actual = actual.lower()\n",
    "    out = out.lower()\n",
    "    \n",
    "    error = jiwer.wer(actual, out)\n",
    "    wer.append(error)\n",
    "    error = jiwer.cer(actual, out)\n",
    "    cer.append(error)"
   ]
  },
  {
   "cell_type": "code",
   "execution_count": 10,
   "id": "8845a4d1",
   "metadata": {},
   "outputs": [
    {
     "data": {
      "text/plain": [
       "(0.08917690642690643, 0.03982418421412676)"
      ]
     },
     "execution_count": 10,
     "metadata": {},
     "output_type": "execute_result"
    }
   ],
   "source": [
    "import numpy as np\n",
    "\n",
    "np.mean(wer), np.mean(cer)"
   ]
  },
  {
   "cell_type": "code",
   "execution_count": null,
   "id": "643db7fc",
   "metadata": {},
   "outputs": [],
   "source": []
  }
 ],
 "metadata": {
  "kernelspec": {
   "display_name": "Python 3 (ipykernel)",
   "language": "python",
   "name": "python3"
  },
  "language_info": {
   "codemirror_mode": {
    "name": "ipython",
    "version": 3
   },
   "file_extension": ".py",
   "mimetype": "text/x-python",
   "name": "python",
   "nbconvert_exporter": "python",
   "pygments_lexer": "ipython3",
   "version": "3.10.12"
  }
 },
 "nbformat": 4,
 "nbformat_minor": 5
}
