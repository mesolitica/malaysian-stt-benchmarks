{
 "cells": [
  {
   "cell_type": "code",
   "execution_count": 1,
   "id": "777ebcad",
   "metadata": {},
   "outputs": [],
   "source": [
    "# !wget https://huggingface.co/datasets/malaysia-ai/fleurs-my-ms/resolve/main/test-fleurs.json\n",
    "# !wget https://huggingface.co/datasets/malaysia-ai/fleurs-my-ms/resolve/main/fleurs-test.zip\n",
    "# !unzip fleurs-test.zip"
   ]
  },
  {
   "cell_type": "code",
   "execution_count": 2,
   "id": "e85ced94",
   "metadata": {},
   "outputs": [],
   "source": [
    "from glob import glob\n",
    "import json\n",
    "import torch\n",
    "from transformers import AutoProcessor, AutoModelForSpeechSeq2Seq, pipeline\n",
    "from datasets import Audio\n",
    "from tqdm import tqdm\n",
    "import jiwer\n",
    "\n",
    "sr = 16000\n",
    "audio = Audio(sampling_rate=sr)\n",
    "PUNCTUATION = '!\"#$%&\\'()*+,./:;<=>?@[\\\\]^_`{|}~'"
   ]
  },
  {
   "cell_type": "code",
   "execution_count": 3,
   "id": "c3c221a8",
   "metadata": {},
   "outputs": [
    {
     "name": "stderr",
     "output_type": "stream",
     "text": [
      "Special tokens have been added in the vocabulary, make sure the associated word embeddings are fine-tuned or trained.\n"
     ]
    },
    {
     "data": {
      "application/vnd.jupyter.widget-view+json": {
       "model_id": "de49b755c85147fb8f35a6da2e543443",
       "version_major": 2,
       "version_minor": 0
      },
      "text/plain": [
       "config.json:   0%|          | 0.00/2.27k [00:00<?, ?B/s]"
      ]
     },
     "metadata": {},
     "output_type": "display_data"
    },
    {
     "data": {
      "application/vnd.jupyter.widget-view+json": {
       "model_id": "daffcb863bde4ac5af8df5814a3c6895",
       "version_major": 2,
       "version_minor": 0
      },
      "text/plain": [
       "model.safetensors:   0%|          | 0.00/75.5M [00:00<?, ?B/s]"
      ]
     },
     "metadata": {},
     "output_type": "display_data"
    },
    {
     "name": "stderr",
     "output_type": "stream",
     "text": [
      "The model was loaded with use_flash_attention_2=True, which is deprecated and may be removed in a future release. Please use `attn_implementation=\"flash_attention_2\"` instead.\n",
      "You are attempting to use Flash Attention 2.0 with a model not initialized on GPU. Make sure to move the model to GPU after initializing it on CPU with `model.to('cuda')`.\n"
     ]
    }
   ],
   "source": [
    "processor = AutoProcessor.from_pretrained('mesolitica/malaysian-whisper-tiny')\n",
    "model = AutoModelForSpeechSeq2Seq.from_pretrained(\n",
    "    'mesolitica/malaysian-whisper-tiny',\n",
    "    use_flash_attention_2 = True,\n",
    "    torch_dtype = torch.bfloat16\n",
    ")"
   ]
  },
  {
   "cell_type": "code",
   "execution_count": 4,
   "id": "96d751de",
   "metadata": {},
   "outputs": [],
   "source": [
    "_ = model.cuda()"
   ]
  },
  {
   "cell_type": "code",
   "execution_count": 5,
   "id": "f49077a4",
   "metadata": {},
   "outputs": [],
   "source": [
    "with open('test-fleurs.json') as fopen:\n",
    "    data = json.load(fopen)"
   ]
  },
  {
   "cell_type": "code",
   "execution_count": 6,
   "id": "4c5de71f",
   "metadata": {
    "scrolled": true
   },
   "outputs": [
    {
     "data": {
      "text/plain": [
       "749"
      ]
     },
     "execution_count": 6,
     "metadata": {},
     "output_type": "execute_result"
    }
   ],
   "source": [
    "len(data)"
   ]
  },
  {
   "cell_type": "code",
   "execution_count": 7,
   "id": "b515cbc9",
   "metadata": {},
   "outputs": [
    {
     "name": "stderr",
     "output_type": "stream",
     "text": [
      "100%|██████████| 749/749 [05:06<00:00,  2.44it/s]\n"
     ]
    }
   ],
   "source": [
    "wer, cer = [], []\n",
    "\n",
    "for i in tqdm(range(len(X))):\n",
    "    \n",
    "    \n",
    "    y, _ = malaya_speech.load(X[i])\n",
    "    actual = Y[i]\n",
    "    \n",
    "    inputs = processor([y], return_tensors = 'pt', sampling_rate = 16000)\n",
    "    inputs['input_features'] = inputs['input_features'].type(torch.bfloat16).cuda()\n",
    "    r = model.generate(inputs['input_features'], language='ms', return_timestamps=True)\n",
    "    out = processor.tokenizer.decode(r[0], skip_special_tokens = True).strip()\n",
    "    out = preprocessing_text(out)\n",
    "        \n",
    "    actual = actual.lower()\n",
    "    out = out.lower()\n",
    "    \n",
    "    wer_ = calculate_wer(actual, out)\n",
    "    if wer_ > 1:\n",
    "        wer_ = 1.0\n",
    "    \n",
    "    cer_ = calculate_cer(actual, out)\n",
    "    if cer_ > 1:\n",
    "        cer_ = 1.0\n",
    "    \n",
    "    wer.append(wer_)\n",
    "    cer.append(cer_)"
   ]
  },
  {
   "cell_type": "code",
   "execution_count": 8,
   "id": "61137882",
   "metadata": {},
   "outputs": [
    {
     "data": {
      "text/plain": [
       "(0.3461808122686204, 0.13390519685940314)"
      ]
     },
     "execution_count": 8,
     "metadata": {},
     "output_type": "execute_result"
    }
   ],
   "source": [
    "import numpy as np\n",
    "\n",
    "np.mean(wer), np.mean(cer)"
   ]
  },
  {
   "cell_type": "code",
   "execution_count": null,
   "id": "a102d68b",
   "metadata": {},
   "outputs": [],
   "source": []
  }
 ],
 "metadata": {
  "kernelspec": {
   "display_name": "Python 3 (ipykernel)",
   "language": "python",
   "name": "python3"
  },
  "language_info": {
   "codemirror_mode": {
    "name": "ipython",
    "version": 3
   },
   "file_extension": ".py",
   "mimetype": "text/x-python",
   "name": "python",
   "nbconvert_exporter": "python",
   "pygments_lexer": "ipython3",
   "version": "3.10.12"
  }
 },
 "nbformat": 4,
 "nbformat_minor": 5
}
