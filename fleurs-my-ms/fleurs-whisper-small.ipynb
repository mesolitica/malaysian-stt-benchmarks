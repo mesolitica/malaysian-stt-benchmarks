{
 "cells": [
  {
   "cell_type": "code",
   "execution_count": 1,
   "id": "777ebcad",
   "metadata": {},
   "outputs": [],
   "source": [
    "# !wget https://huggingface.co/datasets/huseinzol05/malaya-speech-stt-test-set/resolve/main/fleurs-ms-my/fleurs-ms-my.tar.gz\n",
    "# !wget https://huggingface.co/datasets/huseinzol05/malaya-speech-stt-test-set/resolve/main/fleurs-ms-my/malay-asr-test.json\n",
    "# !tar -zxf fleurs-ms-my.tar.gz"
   ]
  },
  {
   "cell_type": "code",
   "execution_count": 2,
   "id": "e85ced94",
   "metadata": {},
   "outputs": [
    {
     "name": "stderr",
     "output_type": "stream",
     "text": [
      "`pyaudio` is not available, `malaya_speech.streaming.pyaudio` is not able to use.\n"
     ]
    }
   ],
   "source": [
    "from glob import glob\n",
    "import json\n",
    "import torch\n",
    "from transformers import AutoProcessor, AutoModelForSpeechSeq2Seq, pipeline\n",
    "from datasets import Audio\n",
    "from tqdm import tqdm\n",
    "import malaya_speech\n",
    "import unicodedata\n",
    "import re\n",
    "import itertools\n",
    "\n",
    "sr = 16000\n",
    "audio = Audio(sampling_rate=sr)\n",
    "\n",
    "vocabs = [\" \", \"a\", \"e\", \"n\", \"i\", \"t\", \"o\", \"u\", \"s\", \"k\", \"r\", \"l\", \"h\", \"d\", \"m\", \"g\", \"y\", \"b\", \"p\", \"w\", \"c\", \"f\", \"j\", \"v\", \"z\", \"0\", \"1\", \"x\", \"2\", \"q\", \"5\", \"3\", \"4\", \"6\", \"9\", \"8\", \"7\"]\n",
    "\n",
    "def preprocessing_text(string):\n",
    "    \n",
    "    string = unicodedata.normalize('NFC', string.lower())\n",
    "    string = ''.join([c if c in vocabs else ' ' for c in string])\n",
    "    string = re.sub(r'[ ]+', ' ', string).strip()\n",
    "    string = (\n",
    "        ''.join(''.join(s)[:2] for _, s in itertools.groupby(string))\n",
    "    )\n",
    "    return string\n",
    "\n",
    "def calculate_cer(actual, hyp):\n",
    "    \"\"\"\n",
    "    Calculate CER using `python-Levenshtein`.\n",
    "    \"\"\"\n",
    "    import Levenshtein as Lev\n",
    "\n",
    "    actual = actual.replace(' ', '')\n",
    "    hyp = hyp.replace(' ', '')\n",
    "    return Lev.distance(actual, hyp) / len(actual)\n",
    "\n",
    "\n",
    "def calculate_wer(actual, hyp):\n",
    "    \"\"\"\n",
    "    Calculate WER using `python-Levenshtein`.\n",
    "    \"\"\"\n",
    "    import Levenshtein as Lev\n",
    "\n",
    "    b = set(actual.split() + hyp.split())\n",
    "    word2char = dict(zip(b, range(len(b))))\n",
    "\n",
    "    w1 = [chr(word2char[w]) for w in actual.split()]\n",
    "    w2 = [chr(word2char[w]) for w in hyp.split()]\n",
    "\n",
    "    return Lev.distance(''.join(w1), ''.join(w2)) / len(actual.split())"
   ]
  },
  {
   "cell_type": "code",
   "execution_count": 3,
   "id": "c3c221a8",
   "metadata": {},
   "outputs": [
    {
     "name": "stderr",
     "output_type": "stream",
     "text": [
      "The model was loaded with use_flash_attention_2=True, which is deprecated and may be removed in a future release. Please use `attn_implementation=\"flash_attention_2\"` instead.\n",
      "You are attempting to use Flash Attention 2.0 with a model not initialized on GPU. Make sure to move the model to GPU after initializing it on CPU with `model.to('cuda')`.\n"
     ]
    }
   ],
   "source": [
    "processor = AutoProcessor.from_pretrained('openai/whisper-small')\n",
    "model = AutoModelForSpeechSeq2Seq.from_pretrained(\n",
    "    'openai/whisper-small',\n",
    "    use_flash_attention_2 = True,\n",
    "    torch_dtype = torch.bfloat16\n",
    ")"
   ]
  },
  {
   "cell_type": "code",
   "execution_count": 4,
   "id": "96d751de",
   "metadata": {},
   "outputs": [],
   "source": [
    "_ = model.cuda()"
   ]
  },
  {
   "cell_type": "code",
   "execution_count": 5,
   "id": "f49077a4",
   "metadata": {},
   "outputs": [],
   "source": [
    "with open('malay-asr-test.json') as fopen:\n",
    "    data = json.load(fopen)\n",
    "    \n",
    "X = data['X']\n",
    "Y = data['Y']"
   ]
  },
  {
   "cell_type": "code",
   "execution_count": 6,
   "id": "b515cbc9",
   "metadata": {},
   "outputs": [
    {
     "name": "stderr",
     "output_type": "stream",
     "text": [
      "100%|██████████| 622/622 [08:10<00:00,  1.27it/s]\n"
     ]
    }
   ],
   "source": [
    "wer, cer = [], []\n",
    "\n",
    "for i in tqdm(range(len(X))):\n",
    "    \n",
    "    \n",
    "    y, _ = malaya_speech.load(X[i])\n",
    "    actual = Y[i]\n",
    "    \n",
    "    inputs = processor([y], return_tensors = 'pt', sampling_rate = 16000)\n",
    "    inputs['input_features'] = inputs['input_features'].type(torch.bfloat16).cuda()\n",
    "    r = model.generate(inputs['input_features'], language='ms', return_timestamps=True)\n",
    "    out = processor.tokenizer.decode(r[0], skip_special_tokens = True).strip()\n",
    "    out = preprocessing_text(out)\n",
    "        \n",
    "    actual = actual.lower()\n",
    "    out = out.lower()\n",
    "    \n",
    "    wer_ = calculate_wer(actual, out)\n",
    "    if wer_ > 1:\n",
    "        wer_ = 1.0\n",
    "    \n",
    "    cer_ = calculate_cer(actual, out)\n",
    "    if cer_ > 1:\n",
    "        cer_ = 1.0\n",
    "    \n",
    "    wer.append(wer_)\n",
    "    cer.append(cer_)"
   ]
  },
  {
   "cell_type": "code",
   "execution_count": 7,
   "id": "61137882",
   "metadata": {},
   "outputs": [
    {
     "data": {
      "text/plain": [
       "(0.21953142859857497, 0.06781078047622793)"
      ]
     },
     "execution_count": 7,
     "metadata": {},
     "output_type": "execute_result"
    }
   ],
   "source": [
    "import numpy as np\n",
    "\n",
    "np.mean(wer), np.mean(cer)"
   ]
  },
  {
   "cell_type": "code",
   "execution_count": null,
   "id": "026f7045",
   "metadata": {},
   "outputs": [],
   "source": []
  }
 ],
 "metadata": {
  "kernelspec": {
   "display_name": "Python 3 (ipykernel)",
   "language": "python",
   "name": "python3"
  },
  "language_info": {
   "codemirror_mode": {
    "name": "ipython",
    "version": 3
   },
   "file_extension": ".py",
   "mimetype": "text/x-python",
   "name": "python",
   "nbconvert_exporter": "python",
   "pygments_lexer": "ipython3",
   "version": "3.10.12"
  }
 },
 "nbformat": 4,
 "nbformat_minor": 5
}
