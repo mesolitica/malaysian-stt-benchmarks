{
 "cells": [
  {
   "cell_type": "code",
   "execution_count": 1,
   "id": "777ebcad",
   "metadata": {},
   "outputs": [],
   "source": [
    "# !wget https://huggingface.co/datasets/malaysia-ai/fleurs-my-ms/resolve/main/test-fleurs.json\n",
    "# !wget https://huggingface.co/datasets/malaysia-ai/fleurs-my-ms/resolve/main/fleurs-test.zip\n",
    "# !unzip fleurs-test.zip"
   ]
  },
  {
   "cell_type": "code",
   "execution_count": 2,
   "id": "e85ced94",
   "metadata": {},
   "outputs": [],
   "source": [
    "from glob import glob\n",
    "import json\n",
    "import torch\n",
    "from transformers import AutoProcessor, AutoModelForSpeechSeq2Seq, pipeline\n",
    "from datasets import Audio\n",
    "from tqdm import tqdm\n",
    "import jiwer\n",
    "\n",
    "sr = 16000\n",
    "audio = Audio(sampling_rate=sr)\n",
    "PUNCTUATION = '!\"#$%&\\'()*+,./:;<=>?@[\\\\]^_`{|}~'"
   ]
  },
  {
   "cell_type": "code",
   "execution_count": 3,
   "id": "c3c221a8",
   "metadata": {},
   "outputs": [
    {
     "name": "stderr",
     "output_type": "stream",
     "text": [
      "The model was loaded with use_flash_attention_2=True, which is deprecated and may be removed in a future release. Please use `attn_implementation=\"flash_attention_2\"` instead.\n",
      "You are attempting to use Flash Attention 2.0 with a model not initialized on GPU. Make sure to move the model to GPU after initializing it on CPU with `model.to('cuda')`.\n"
     ]
    }
   ],
   "source": [
    "processor = AutoProcessor.from_pretrained('openai/whisper-small')\n",
    "model = AutoModelForSpeechSeq2Seq.from_pretrained(\n",
    "    'openai/whisper-small',\n",
    "    use_flash_attention_2 = True,\n",
    "    torch_dtype = torch.bfloat16\n",
    ")"
   ]
  },
  {
   "cell_type": "code",
   "execution_count": 4,
   "id": "96d751de",
   "metadata": {},
   "outputs": [],
   "source": [
    "_ = model.cuda()"
   ]
  },
  {
   "cell_type": "code",
   "execution_count": 5,
   "id": "f49077a4",
   "metadata": {},
   "outputs": [],
   "source": [
    "with open('test-fleurs.json') as fopen:\n",
    "    data = json.load(fopen)"
   ]
  },
  {
   "cell_type": "code",
   "execution_count": 6,
   "id": "4c5de71f",
   "metadata": {
    "scrolled": true
   },
   "outputs": [
    {
     "data": {
      "text/plain": [
       "749"
      ]
     },
     "execution_count": 6,
     "metadata": {},
     "output_type": "execute_result"
    }
   ],
   "source": [
    "len(data)"
   ]
  },
  {
   "cell_type": "code",
   "execution_count": 7,
   "id": "b515cbc9",
   "metadata": {},
   "outputs": [
    {
     "name": "stderr",
     "output_type": "stream",
     "text": [
      "100%|██████████| 749/749 [08:05<00:00,  1.54it/s]\n"
     ]
    }
   ],
   "source": [
    "wer, cer = [], []\n",
    "\n",
    "for i in tqdm(range(len(data))):\n",
    "    y = audio.decode_example(audio.encode_example(data[i]['audio_filename']))['array']\n",
    "    inputs = processor([y], return_tensors = 'pt', sampling_rate = 16000)\n",
    "    inputs['input_features'] = inputs['input_features'].type(torch.bfloat16).cuda()\n",
    "    r = model.generate(inputs['input_features'], language='ms', return_timestamps=True)\n",
    "    \n",
    "    out = processor.tokenizer.decode(r[0], skip_special_tokens = True).strip()\n",
    "    actual = processor.tokenizer.decode(processor.tokenizer.encode(data[i]['new_text']), skip_special_tokens = True).strip()\n",
    "    \n",
    "    for p in PUNCTUATION:\n",
    "        out = out.replace(p, '')\n",
    "        actual = actual.replace(p, '')\n",
    "        \n",
    "    actual = actual.lower()\n",
    "    out = out.lower()\n",
    "    \n",
    "    error = jiwer.wer(actual, out)\n",
    "    wer.append(error)\n",
    "    error = jiwer.cer(actual, out)\n",
    "    cer.append(error)"
   ]
  },
  {
   "cell_type": "code",
   "execution_count": 9,
   "id": "61137882",
   "metadata": {},
   "outputs": [
    {
     "data": {
      "text/plain": [
       "(0.2327510905228186, 0.07028889922090295)"
      ]
     },
     "execution_count": 9,
     "metadata": {},
     "output_type": "execute_result"
    }
   ],
   "source": [
    "import numpy as np\n",
    "\n",
    "np.mean(wer), np.mean(cer)"
   ]
  },
  {
   "cell_type": "code",
   "execution_count": null,
   "id": "629b68a2",
   "metadata": {},
   "outputs": [],
   "source": []
  }
 ],
 "metadata": {
  "kernelspec": {
   "display_name": "Python 3 (ipykernel)",
   "language": "python",
   "name": "python3"
  },
  "language_info": {
   "codemirror_mode": {
    "name": "ipython",
    "version": 3
   },
   "file_extension": ".py",
   "mimetype": "text/x-python",
   "name": "python",
   "nbconvert_exporter": "python",
   "pygments_lexer": "ipython3",
   "version": "3.10.12"
  }
 },
 "nbformat": 4,
 "nbformat_minor": 5
}
